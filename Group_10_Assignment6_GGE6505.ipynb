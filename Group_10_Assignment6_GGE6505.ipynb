{
 "cells": [
  {
   "attachments": {},
   "cell_type": "markdown",
   "metadata": {},
   "source": [
    "Group 10 Assignment 6 - Data Visualization"
   ]
  },
  {
   "cell_type": "code",
   "execution_count": 2,
   "metadata": {},
   "outputs": [],
   "source": [
    "import pandas as pd\n",
    "import numpy as np\n",
    "import matplotlib.pyplot as plt\n",
    "import statsmodels.api as sm\n"
   ]
  },
  {
   "cell_type": "code",
   "execution_count": 3,
   "metadata": {},
   "outputs": [
    {
     "data": {
      "text/html": [
       "<div>\n",
       "<style scoped>\n",
       "    .dataframe tbody tr th:only-of-type {\n",
       "        vertical-align: middle;\n",
       "    }\n",
       "\n",
       "    .dataframe tbody tr th {\n",
       "        vertical-align: top;\n",
       "    }\n",
       "\n",
       "    .dataframe thead th {\n",
       "        text-align: right;\n",
       "    }\n",
       "</style>\n",
       "<table border=\"1\" class=\"dataframe\">\n",
       "  <thead>\n",
       "    <tr style=\"text-align: right;\">\n",
       "      <th></th>\n",
       "      <th>diagnosis</th>\n",
       "      <th>ID</th>\n",
       "      <th>imaginary_min</th>\n",
       "      <th>imaginary_avg</th>\n",
       "      <th>real_min</th>\n",
       "      <th>real_avg</th>\n",
       "      <th>gender</th>\n",
       "      <th>age</th>\n",
       "      <th>smoking</th>\n",
       "      <th>age_bin</th>\n",
       "    </tr>\n",
       "  </thead>\n",
       "  <tbody>\n",
       "    <tr>\n",
       "      <th>0</th>\n",
       "      <td>COPD</td>\n",
       "      <td>301-4</td>\n",
       "      <td>-320.61</td>\n",
       "      <td>-300.563531</td>\n",
       "      <td>-495.26</td>\n",
       "      <td>-464.171991</td>\n",
       "      <td>1.0</td>\n",
       "      <td>77</td>\n",
       "      <td>2.0</td>\n",
       "      <td>70-79</td>\n",
       "    </tr>\n",
       "    <tr>\n",
       "      <th>1</th>\n",
       "      <td>COPD</td>\n",
       "      <td>302-3</td>\n",
       "      <td>-325.39</td>\n",
       "      <td>-314.750360</td>\n",
       "      <td>-473.73</td>\n",
       "      <td>-469.263140</td>\n",
       "      <td>0.0</td>\n",
       "      <td>72</td>\n",
       "      <td>2.0</td>\n",
       "      <td>70-79</td>\n",
       "    </tr>\n",
       "    <tr>\n",
       "      <th>2</th>\n",
       "      <td>COPD</td>\n",
       "      <td>303-3</td>\n",
       "      <td>-323.00</td>\n",
       "      <td>-317.436056</td>\n",
       "      <td>-476.12</td>\n",
       "      <td>-471.897667</td>\n",
       "      <td>1.0</td>\n",
       "      <td>73</td>\n",
       "      <td>3.0</td>\n",
       "      <td>70-79</td>\n",
       "    </tr>\n",
       "    <tr>\n",
       "      <th>3</th>\n",
       "      <td>COPD</td>\n",
       "      <td>304-4</td>\n",
       "      <td>-327.78</td>\n",
       "      <td>-317.399670</td>\n",
       "      <td>-473.73</td>\n",
       "      <td>-468.856388</td>\n",
       "      <td>1.0</td>\n",
       "      <td>76</td>\n",
       "      <td>2.0</td>\n",
       "      <td>70-79</td>\n",
       "    </tr>\n",
       "    <tr>\n",
       "      <th>4</th>\n",
       "      <td>COPD</td>\n",
       "      <td>305-4</td>\n",
       "      <td>-325.39</td>\n",
       "      <td>-316.155785</td>\n",
       "      <td>-478.52</td>\n",
       "      <td>-472.869783</td>\n",
       "      <td>0.0</td>\n",
       "      <td>65</td>\n",
       "      <td>2.0</td>\n",
       "      <td>60-69</td>\n",
       "    </tr>\n",
       "  </tbody>\n",
       "</table>\n",
       "</div>"
      ],
      "text/plain": [
       "  diagnosis     ID  imaginary_min  imaginary_avg  real_min    real_avg  \\\n",
       "0      COPD  301-4        -320.61    -300.563531   -495.26 -464.171991   \n",
       "1      COPD  302-3        -325.39    -314.750360   -473.73 -469.263140   \n",
       "2      COPD  303-3        -323.00    -317.436056   -476.12 -471.897667   \n",
       "3      COPD  304-4        -327.78    -317.399670   -473.73 -468.856388   \n",
       "4      COPD  305-4        -325.39    -316.155785   -478.52 -472.869783   \n",
       "\n",
       "   gender  age  smoking age_bin  \n",
       "0     1.0   77      2.0   70-79  \n",
       "1     0.0   72      2.0   70-79  \n",
       "2     1.0   73      3.0   70-79  \n",
       "3     1.0   76      2.0   70-79  \n",
       "4     0.0   65      2.0   60-69  "
      ]
     },
     "execution_count": 3,
     "metadata": {},
     "output_type": "execute_result"
    }
   ],
   "source": [
    "df = pd.read_csv(r'C:\\Users\\Avery\\OneDrive\\Documents\\GitHub\\Group10_Assignment6\\clean_data.csv')\n",
    "\n",
    "df.head(5)"
   ]
  },
  {
   "attachments": {},
   "cell_type": "markdown",
   "metadata": {},
   "source": [
    "The study from which the data wastaken aims to effectively diagnose patients with respitory symptoms using a new testing platform looking into the saliva content of the patient. The undelying aim is to test for COPD earlier to help manage the disease for the patients (Ref: https://www.mdpi.com/2227-9032/7/1/11) Our main questions is if there is a definitive way to test for COPD using saliva but also if there are other ways to diffrentiate between the other respitory diseases. \n",
    "\n",
    "In this assignment we aim to ask the two following questions:\n",
    "1) At what age are you most likely to be dignosed with the pulmonary diseases studied?\n",
    "    a) What age ranges are more common for each disease?\n",
    "    b) What is the mean age for each diagnosis?\n",
    "\n",
    "2) Can a saliva sample be used as an indicator for common pulmonary diseases?\n",
    "    a) Is it more definitive to use the minimum or average values?"
   ]
  },
  {
   "attachments": {},
   "cell_type": "markdown",
   "metadata": {},
   "source": [
    "First we will look into the age. We will begin by looking into the number of patients diagnosed by there age range. "
   ]
  },
  {
   "cell_type": "code",
   "execution_count": 4,
   "metadata": {},
   "outputs": [
    {
     "data": {
      "image/png": "[encoded data removed]",
      "text/plain": [
       "<Figure size 640x480 with 1 Axes>"
      ]
     },
     "metadata": {},
     "output_type": "display_data"
    }
   ],
   "source": [
    "#Now we can see the number of people in each age group by diagnosis using bins\n",
    "\n",
    "age_diagnosis_number = df.groupby(['age_bin', 'diagnosis'])['diagnosis'].count()\n",
    "\n",
    "# plot a histogram of the number of people in each age group by diagnosis\n",
    "age_diagnosis_number.unstack().plot(kind='bar')\n",
    "\n",
    "# set the plot title and axis labels\n",
    "plt.title('Number of People in Each Age Group by Diagnosis')\n",
    "plt.xlabel('Age Group')\n",
    "plt.ylabel('Number of People')\n",
    "\n",
    "# show the plot\n",
    "plt.show()\n"
   ]
  },
  {
   "cell_type": "code",
   "execution_count": 5,
   "metadata": {},
   "outputs": [
    {
     "data": {
      "text/plain": [
       "<Axes: xlabel='diagnosis'>"
      ]
     },
     "execution_count": 5,
     "metadata": {},
     "output_type": "execute_result"
    },
    {
     "data": {
      "image/png": "[encoded data removed]",
      "text/plain": [
       "<Figure size 640x480 with 1 Axes>"
      ]
     },
     "metadata": {},
     "output_type": "display_data"
    }
   ],
   "source": [
    "# Another way to see this\n",
    "\n",
    "age_stats = df.groupby('diagnosis')['age'].agg(['max', 'min'])\n",
    "age_stats = age_stats.reset_index()\n",
    "\n",
    "age_stats.plot.bar(x='diagnosis', rot=0)\n",
    "\n"
   ]
  },
  {
   "attachments": {},
   "cell_type": "markdown",
   "metadata": {},
   "source": [
    "Within the bar plot above, the age range for each disease the age range is above the min column but below the max column. From this view, it makes it harder to differentiate for the diseases."
   ]
  },
  {
   "attachments": {},
   "cell_type": "markdown",
   "metadata": {},
   "source": [
    "By looking at the age, there is no definitive age range for any diseases that would give a difinitive diagnosis based solely upon age. However, we come to same conclusion as recorded in the research that COPD is detected later in life as compared to the other diseases but can develop very mild symptoms early in life that go undiagnosed until symptoms become severe (ref: https://www.mdpi.com/2227-9032/7/1/11). \n",
    "\n",
    "Now we must look at the saliva content to see if we can get a definitive answer."
   ]
  },
  {
   "cell_type": "code",
   "execution_count": 9,
   "metadata": {},
   "outputs": [],
   "source": [
    "groups = df.groupby('diagnosis')\n",
    "\n",
    "# Identify outliers in each group using linear regression\n",
    "threshold = 3\n",
    "outliers = []\n",
    "for name, group in groups:\n",
    "    # Create linear regression model\n",
    "    X = group[['real_min']]\n",
    "    y = group['imaginary_min']\n",
    "    X = sm.add_constant(X)\n",
    "    model = sm.OLS(y, X).fit()\n",
    "\n",
    "    # Predict values and calculate residuals\n",
    "    y_pred = model.predict(X)\n",
    "    residuals = y - y_pred\n",
    "\n",
    "    # Identify outliers based on threshold\n",
    "    group_outliers = group[np.abs(residuals) > threshold * residuals.std()]\n",
    "    outliers.append(group_outliers)\n",
    "\n",
    "# Remove outliers from each group\n",
    "df_clean = df.copy()\n",
    "for group_outliers in outliers:\n",
    "    df_clean = df_clean.drop(group_outliers.index)\n",
    "\n",
    "groups2 = df_clean.groupby('diagnosis')\n",
    "\n",
    "# Identify outliers in each group using linear regression\n",
    "threshold = 3\n",
    "outliers = []\n",
    "for name, group in groups2:\n",
    "    # Create linear regression model\n",
    "    X = group[['real_avg']]\n",
    "    y = group['imaginary_avg']\n",
    "    X = sm.add_constant(X)\n",
    "    model = sm.OLS(y, X).fit()\n",
    "\n",
    "    # Predict values and calculate residuals\n",
    "    y_pred = model.predict(X)\n",
    "    residuals = y - y_pred\n",
    "\n",
    "    # Identify outliers based on threshold\n",
    "    group_outliers = group[np.abs(residuals) > threshold * residuals.std()]\n",
    "    outliers.append(group_outliers)\n",
    "\n",
    "# Remove outliers from each group\n",
    "df_clean_final = df_clean.copy()\n",
    "for group_outliers in outliers:\n",
    "    df_clean_final = df_clean_final.drop(group_outliers.index)\n"
   ]
  },
  {
   "cell_type": "code",
   "execution_count": 24,
   "metadata": {},
   "outputs": [
    {
     "data": {
      "image/png": "[encoded data removed]",
      "text/plain": [
       "<Figure size 1200x600 with 4 Axes>"
      ]
     },
     "metadata": {},
     "output_type": "display_data"
    }
   ],
   "source": [
    "# Create box plots for each group\n",
    "fig, axs = plt.subplots(nrows=1, ncols=len(groups2), figsize=(12,6))\n",
    "for i, (name, group) in enumerate(groups2):\n",
    "    axs[i].set_ylim(-440,-480)\n",
    "    axs[i].boxplot(group['real_avg'], notch=True, meanline=True, autorange = True, showfliers=False, showbox=True)\n",
    "    axs[i].set_xticklabels([name])\n",
    "    axs[i].set_title('Group {}'.format(i+1))\n",
    "    axs[i].set_ylabel('real_avg')\n",
    "    "
   ]
  },
  {
   "attachments": {},
   "cell_type": "markdown",
   "metadata": {},
   "source": [
    "Using the visualization above, we can now definitively rule out Healthy Control patients as their average saliva content is much lower than those that are infected. However, the other diseases all have roughly the same content and we cannot make a definitive answer. It is imperative to look in the minimum data to see if an aswer can be seen."
   ]
  },
  {
   "cell_type": "code",
   "execution_count": 100,
   "metadata": {},
   "outputs": [],
   "source": [
    "# Identify outliers in each group using linear regression\n",
    "threshold = 3\n",
    "outliers = []\n",
    "for name, group in groups:\n",
    "    # Create linear regression model\n",
    "    X = group[['real_min']]\n",
    "    y = group['imaginary_min']\n",
    "    X = sm.add_constant(X)\n",
    "    model = sm.OLS(y, X).fit()\n",
    "\n",
    "    # Predict values and calculate residuals\n",
    "    y_pred = model.predict(X)\n",
    "    residuals = y - y_pred\n",
    "\n",
    "    # Identify outliers based on threshold\n",
    "    group_outliers = group[np.abs(residuals) > threshold * residuals.std()]\n",
    "    outliers.append(group_outliers)\n",
    "\n",
    "# Remove outliers from each group\n",
    "df_clean = df.copy()\n",
    "for group_outliers in outliers:\n",
    "    df_clean = df_clean.drop(group_outliers.index)\n",
    "\n",
    "groups2 = df_clean.groupby('diagnosis')"
   ]
  },
  {
   "cell_type": "code",
   "execution_count": 25,
   "metadata": {},
   "outputs": [
    {
     "data": {
      "image/png": "[encoded data removed]",
      "text/plain": [
       "<Figure size 1200x600 with 4 Axes>"
      ]
     },
     "metadata": {},
     "output_type": "display_data"
    }
   ],
   "source": [
    "# Create box plots for each group\n",
    "fig, axs = plt.subplots(nrows=1, ncols=len(groups2), figsize=(12,6))\n",
    "for i, (name, group) in enumerate(groups2):\n",
    "    axs[i].set_ylim(-305,-355)\n",
    "    axs[i].boxplot(group['imaginary_min'], notch=True, showfliers=False)\n",
    "    axs[i].set_xticklabels([name])\n",
    "    axs[i].set_title('Group {}'.format(i+1))\n",
    "    axs[i].set_ylabel('imaginary_min')"
   ]
  },
  {
   "attachments": {},
   "cell_type": "markdown",
   "metadata": {},
   "source": [
    "Using solely the minimum saliva content, we are nto able to definitevely differentiate between the different pulmonary diseases. However, when combined with the average saliva contents, we are able to diagnose for the healthy control and COPD. We can diagnose healthy control solely by using the average saliva content. When combined, we are able to see that COPD has a higher average saliva content and a somewhat lower minimum saliva content. It still remains that Asthma an dthose infected cannot be differentiated as they tend to have the same results. "
   ]
  },
  {
   "attachments": {},
   "cell_type": "markdown",
   "metadata": {},
   "source": [
    "As a final touch, we can look into the smoking history to see a definitive answer between asthma and infected diagnosis can be acheived."
   ]
  },
  {
   "cell_type": "code",
   "execution_count": 119,
   "metadata": {},
   "outputs": [
    {
     "data": {
      "text/html": [
       "<div>\n",
       "<style scoped>\n",
       "    .dataframe tbody tr th:only-of-type {\n",
       "        vertical-align: middle;\n",
       "    }\n",
       "\n",
       "    .dataframe tbody tr th {\n",
       "        vertical-align: top;\n",
       "    }\n",
       "\n",
       "    .dataframe thead th {\n",
       "        text-align: right;\n",
       "    }\n",
       "</style>\n",
       "<table border=\"1\" class=\"dataframe\">\n",
       "  <thead>\n",
       "    <tr style=\"text-align: right;\">\n",
       "      <th></th>\n",
       "      <th>diagnosis</th>\n",
       "      <th>ID</th>\n",
       "      <th>imaginary_min</th>\n",
       "      <th>imaginary_avg</th>\n",
       "      <th>real_min</th>\n",
       "      <th>real_avg</th>\n",
       "      <th>gender</th>\n",
       "      <th>age</th>\n",
       "      <th>smoking</th>\n",
       "      <th>age_bin</th>\n",
       "      <th>smoking_bins</th>\n",
       "    </tr>\n",
       "  </thead>\n",
       "  <tbody>\n",
       "    <tr>\n",
       "      <th>0</th>\n",
       "      <td>COPD</td>\n",
       "      <td>301-4</td>\n",
       "      <td>-320.61</td>\n",
       "      <td>-300.563531</td>\n",
       "      <td>-495.26</td>\n",
       "      <td>-464</td>\n",
       "      <td>1.0</td>\n",
       "      <td>77</td>\n",
       "      <td>2</td>\n",
       "      <td>70-79</td>\n",
       "      <td>ex-smoker</td>\n",
       "    </tr>\n",
       "    <tr>\n",
       "      <th>1</th>\n",
       "      <td>COPD</td>\n",
       "      <td>302-3</td>\n",
       "      <td>-325.39</td>\n",
       "      <td>-314.750360</td>\n",
       "      <td>-473.73</td>\n",
       "      <td>-469</td>\n",
       "      <td>0.0</td>\n",
       "      <td>72</td>\n",
       "      <td>2</td>\n",
       "      <td>70-79</td>\n",
       "      <td>ex-smoker</td>\n",
       "    </tr>\n",
       "    <tr>\n",
       "      <th>2</th>\n",
       "      <td>COPD</td>\n",
       "      <td>303-3</td>\n",
       "      <td>-323.00</td>\n",
       "      <td>-317.436056</td>\n",
       "      <td>-476.12</td>\n",
       "      <td>-471</td>\n",
       "      <td>1.0</td>\n",
       "      <td>73</td>\n",
       "      <td>3</td>\n",
       "      <td>70-79</td>\n",
       "      <td>active smoker</td>\n",
       "    </tr>\n",
       "    <tr>\n",
       "      <th>3</th>\n",
       "      <td>COPD</td>\n",
       "      <td>304-4</td>\n",
       "      <td>-327.78</td>\n",
       "      <td>-317.399670</td>\n",
       "      <td>-473.73</td>\n",
       "      <td>-468</td>\n",
       "      <td>1.0</td>\n",
       "      <td>76</td>\n",
       "      <td>2</td>\n",
       "      <td>70-79</td>\n",
       "      <td>ex-smoker</td>\n",
       "    </tr>\n",
       "    <tr>\n",
       "      <th>4</th>\n",
       "      <td>COPD</td>\n",
       "      <td>305-4</td>\n",
       "      <td>-325.39</td>\n",
       "      <td>-316.155785</td>\n",
       "      <td>-478.52</td>\n",
       "      <td>-472</td>\n",
       "      <td>0.0</td>\n",
       "      <td>65</td>\n",
       "      <td>2</td>\n",
       "      <td>60-69</td>\n",
       "      <td>ex-smoker</td>\n",
       "    </tr>\n",
       "    <tr>\n",
       "      <th>...</th>\n",
       "      <td>...</td>\n",
       "      <td>...</td>\n",
       "      <td>...</td>\n",
       "      <td>...</td>\n",
       "      <td>...</td>\n",
       "      <td>...</td>\n",
       "      <td>...</td>\n",
       "      <td>...</td>\n",
       "      <td>...</td>\n",
       "      <td>...</td>\n",
       "      <td>...</td>\n",
       "    </tr>\n",
       "    <tr>\n",
       "      <th>394</th>\n",
       "      <td>Infected</td>\n",
       "      <td>I176</td>\n",
       "      <td>-337.00</td>\n",
       "      <td>-304.000000</td>\n",
       "      <td>-626.00</td>\n",
       "      <td>-458</td>\n",
       "      <td>0.0</td>\n",
       "      <td>49</td>\n",
       "      <td>2</td>\n",
       "      <td>40-49</td>\n",
       "      <td>ex-smoker</td>\n",
       "    </tr>\n",
       "    <tr>\n",
       "      <th>395</th>\n",
       "      <td>Infected</td>\n",
       "      <td>I177</td>\n",
       "      <td>-337.00</td>\n",
       "      <td>-304.000000</td>\n",
       "      <td>-626.00</td>\n",
       "      <td>-458</td>\n",
       "      <td>0.0</td>\n",
       "      <td>37</td>\n",
       "      <td>1</td>\n",
       "      <td>30-39</td>\n",
       "      <td>non-smoker</td>\n",
       "    </tr>\n",
       "    <tr>\n",
       "      <th>396</th>\n",
       "      <td>Infected</td>\n",
       "      <td>I178</td>\n",
       "      <td>-337.00</td>\n",
       "      <td>-304.000000</td>\n",
       "      <td>-626.00</td>\n",
       "      <td>-458</td>\n",
       "      <td>0.0</td>\n",
       "      <td>29</td>\n",
       "      <td>1</td>\n",
       "      <td>20-29</td>\n",
       "      <td>non-smoker</td>\n",
       "    </tr>\n",
       "    <tr>\n",
       "      <th>397</th>\n",
       "      <td>Infected</td>\n",
       "      <td>I179</td>\n",
       "      <td>-337.00</td>\n",
       "      <td>-304.000000</td>\n",
       "      <td>-626.00</td>\n",
       "      <td>-458</td>\n",
       "      <td>1.0</td>\n",
       "      <td>51</td>\n",
       "      <td>1</td>\n",
       "      <td>50-59</td>\n",
       "      <td>non-smoker</td>\n",
       "    </tr>\n",
       "    <tr>\n",
       "      <th>398</th>\n",
       "      <td>Infected</td>\n",
       "      <td>I180</td>\n",
       "      <td>-337.00</td>\n",
       "      <td>-304.000000</td>\n",
       "      <td>-626.00</td>\n",
       "      <td>-458</td>\n",
       "      <td>0.0</td>\n",
       "      <td>40</td>\n",
       "      <td>1</td>\n",
       "      <td>30-39</td>\n",
       "      <td>non-smoker</td>\n",
       "    </tr>\n",
       "  </tbody>\n",
       "</table>\n",
       "<p>399 rows × 11 columns</p>\n",
       "</div>"
      ],
      "text/plain": [
       "    diagnosis     ID  imaginary_min  imaginary_avg  real_min  real_avg  \\\n",
       "0        COPD  301-4        -320.61    -300.563531   -495.26      -464   \n",
       "1        COPD  302-3        -325.39    -314.750360   -473.73      -469   \n",
       "2        COPD  303-3        -323.00    -317.436056   -476.12      -471   \n",
       "3        COPD  304-4        -327.78    -317.399670   -473.73      -468   \n",
       "4        COPD  305-4        -325.39    -316.155785   -478.52      -472   \n",
       "..        ...    ...            ...            ...       ...       ...   \n",
       "394  Infected   I176        -337.00    -304.000000   -626.00      -458   \n",
       "395  Infected   I177        -337.00    -304.000000   -626.00      -458   \n",
       "396  Infected   I178        -337.00    -304.000000   -626.00      -458   \n",
       "397  Infected   I179        -337.00    -304.000000   -626.00      -458   \n",
       "398  Infected   I180        -337.00    -304.000000   -626.00      -458   \n",
       "\n",
       "     gender  age  smoking age_bin   smoking_bins  \n",
       "0       1.0   77        2   70-79      ex-smoker  \n",
       "1       0.0   72        2   70-79      ex-smoker  \n",
       "2       1.0   73        3   70-79  active smoker  \n",
       "3       1.0   76        2   70-79      ex-smoker  \n",
       "4       0.0   65        2   60-69      ex-smoker  \n",
       "..      ...  ...      ...     ...            ...  \n",
       "394     0.0   49        2   40-49      ex-smoker  \n",
       "395     0.0   37        1   30-39     non-smoker  \n",
       "396     0.0   29        1   20-29     non-smoker  \n",
       "397     1.0   51        1   50-59     non-smoker  \n",
       "398     0.0   40        1   30-39     non-smoker  \n",
       "\n",
       "[399 rows x 11 columns]"
      ]
     },
     "execution_count": 119,
     "metadata": {},
     "output_type": "execute_result"
    }
   ],
   "source": [
    "df['smoking_bins'] = pd.cut(df['smoking'], bins = 3, labels = ('non-smoker', 'ex-smoker', 'active smoker'))\n",
    "\n",
    "df"
   ]
  },
  {
   "cell_type": "code",
   "execution_count": 41,
   "metadata": {},
   "outputs": [
    {
     "name": "stdout",
     "output_type": "stream",
     "text": [
      "<class 'pandas.core.frame.DataFrame'>\n",
      "RangeIndex: 399 entries, 0 to 398\n",
      "Data columns (total 11 columns):\n",
      " #   Column         Non-Null Count  Dtype  \n",
      "---  ------         --------------  -----  \n",
      " 0   diagnosis      399 non-null    object \n",
      " 1   ID             399 non-null    object \n",
      " 2   imaginary_min  399 non-null    float64\n",
      " 3   imaginary_avg  399 non-null    float64\n",
      " 4   real_min       399 non-null    float64\n",
      " 5   real_avg       399 non-null    float64\n",
      " 6   gender         399 non-null    float64\n",
      " 7   age            399 non-null    int64  \n",
      " 8   smoking        399 non-null    object \n",
      " 9   age_bin        399 non-null    object \n",
      " 10  ones           399 non-null    object \n",
      "dtypes: float64(5), int64(1), object(5)\n",
      "memory usage: 34.4+ KB\n"
     ]
    }
   ],
   "source": [
    "df.info()"
   ]
  },
  {
   "cell_type": "code",
   "execution_count": 52,
   "metadata": {},
   "outputs": [
    {
     "data": {
      "image/png": "[encoded data removed]",
      "text/plain": [
       "<Figure size 640x480 with 1 Axes>"
      ]
     },
     "metadata": {},
     "output_type": "display_data"
    }
   ],
   "source": [
    "#Now we can convert the smoking history into bins\n",
    "\n",
    "# convert 'smoking' column from float to integer\n",
    "df['smoking'] = df['smoking'].astype(int)\n",
    "\n",
    "smoking_number = df.groupby(['diagnosis'])['smoking'].mean()\n",
    "\n",
    "smoking_number.plot(kind='bar')\n",
    "\n",
    "plt.show()"
   ]
  },
  {
   "attachments": {},
   "cell_type": "markdown",
   "metadata": {},
   "source": [
    "Using the smoking data, it is again inconclusive to distinguish between being diagnosed with asthma and infected. It can be said however that persons with a history of smoking are more likely to develop COPD. Using the smoking history, and saliva contents a defnitive diagnosis can be given to apatient. Given that the study looks for a definitive test for COPD compared to other similar illnesses, like Asthma and infections, the aim of the research has been met."
   ]
  }
 ],
 "metadata": {
  "kernelspec": {
   "display_name": "Python 3",
   "language": "python",
   "name": "python3"
  },
  "language_info": {
   "codemirror_mode": {
    "name": "ipython",
    "version": 3
   },
   "file_extension": ".py",
   "mimetype": "text/x-python",
   "name": "python",
   "nbconvert_exporter": "python",
   "pygments_lexer": "ipython3",
   "version": "3.11.1"
  },
  "orig_nbformat": 4
 },
 "nbformat": 4,
 "nbformat_minor": 2
}
